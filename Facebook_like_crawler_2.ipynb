{
 "cells": [
  {
   "cell_type": "code",
   "execution_count": 48,
   "metadata": {
    "collapsed": true
   },
   "outputs": [],
   "source": [
    "from splinter import Browser\n",
    "\n",
    "browser = Browser('chrome')\n",
    "url = \"http://www.google.com\"\n",
    "\n",
    "browser.visit(url)\n",
    "search_input = browser.find_by_xpath('//*[@id=\"lst-ib\"]')[0]\n",
    "search_input.fill('facebook\\n')\n"
   ]
  },
  {
   "cell_type": "code",
   "execution_count": 52,
   "metadata": {},
   "outputs": [],
   "source": [
    "import time\n",
    "url = 'https://www.facebook.com/luanyi.yen'\n",
    "browser.visit(url)\n",
    "browser.find_by_text('More').first.click()\n",
    "browser.find_by_text('Likes').first.click()\n",
    "# lenOfPage = driver.execute_script(\"window.scrollTo(0, document.body.scrollHeight);var lenOfPage=document.body.scrollHeight;return lenOfPage;\")\n",
    "a = 20\n",
    "while a:\n",
    "    browser.execute_script('window.scrollTo(0, document.body.scrollHeight)')\n",
    "    time.sleep(0.5)\n",
    "    a -= 1"
   ]
  },
  {
   "cell_type": "code",
   "execution_count": 41,
   "metadata": {},
   "outputs": [],
   "source": [
    "browser.execute_script('window.scrollTo(0, document.body.scrollHeight)')"
   ]
  }
 ],
 "metadata": {
  "kernelspec": {
   "display_name": "Python 3",
   "language": "python",
   "name": "python3"
  },
  "language_info": {
   "codemirror_mode": {
    "name": "ipython",
    "version": 3
   },
   "file_extension": ".py",
   "mimetype": "text/x-python",
   "name": "python",
   "nbconvert_exporter": "python",
   "pygments_lexer": "ipython3",
   "version": "3.6.1"
  }
 },
 "nbformat": 4,
 "nbformat_minor": 2
}
